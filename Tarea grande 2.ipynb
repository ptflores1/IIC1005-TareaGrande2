{
 "cells": [
  {
   "cell_type": "code",
   "execution_count": 79,
   "metadata": {
    "collapsed": true
   },
   "outputs": [],
   "source": [
    "from sklearn.decomposition import PCA\n",
    "from sklearn.cluster import KMeans\n",
    "from sklearn.cluster import MeanShift\n",
    "from sklearn.cluster import DBSCAN\n",
    "import pandas as pd\n",
    "import numpy as np\n",
    "import json"
   ]
  },
  {
   "cell_type": "code",
   "execution_count": 80,
   "metadata": {
    "collapsed": false
   },
   "outputs": [],
   "source": [
    "# Transforming the lines into a matrix 4214 vectors X 4096 features\n",
    "def read_dataset(route):\n",
    "    dataset = open(route,\"r\")\n",
    "    matrix = []\n",
    "    for data_line in dataset.readlines():\n",
    "        data_line = data_line.strip()\n",
    "        data_line = data_line[data_line.find(\"[\"):]\n",
    "        matrix.append(json.loads(data_line))\n",
    "    return np.asarray(matrix)"
   ]
  },
  {
   "cell_type": "code",
   "execution_count": 81,
   "metadata": {
    "collapsed": false,
    "scrolled": true
   },
   "outputs": [],
   "source": [
    "def pca_reduction(dataset, n_components):\n",
    "    pca = PCA(n_components=n_components)\n",
    "    rpm = pca.fit_transform(dataset) #reduced pca matrix\n",
    "    return rpm"
   ]
  },
  {
   "cell_type": "code",
   "execution_count": 82,
   "metadata": {
    "collapsed": true
   },
   "outputs": [],
   "source": [
    "def kmeans(dataset, clusters):\n",
    "    my_kmeans = KMeans(n_clusters=clusters)\n",
    "    my_kmeans.fit(dataset)\n",
    "    return my_kmeans"
   ]
  },
  {
   "cell_type": "code",
   "execution_count": 83,
   "metadata": {
    "collapsed": true
   },
   "outputs": [],
   "source": [
    "def ms(dataset):\n",
    "    my_ms = MeanShift()\n",
    "    my_ms.fit(dataset)\n",
    "    return my_ms"
   ]
  },
  {
   "cell_type": "code",
   "execution_count": 84,
   "metadata": {
    "collapsed": true
   },
   "outputs": [],
   "source": [
    "def db(dataset, eps, min_samples):\n",
    "    my_db = DBSCAN(eps=eps, min_samples=min_samples)\n",
    "    my_db.fit(dataset)\n",
    "    return my_db"
   ]
  },
  {
   "cell_type": "code",
   "execution_count": 85,
   "metadata": {
    "collapsed": false
   },
   "outputs": [],
   "source": [
    "# PCA\n",
    "dataset = read_dataset(\"byArtworkID/dataset.txt\")\n",
    "rpm = pca_reduction(dataset, 50)"
   ]
  },
  {
   "cell_type": "code",
   "execution_count": 86,
   "metadata": {
    "collapsed": false
   },
   "outputs": [],
   "source": [
    "# KMeans\n",
    "my_kmeans10 = kmeans(rpm, 10)\n",
    "km_centers10 = my_kmeans10.cluster_centers_\n",
    "km_labels10 = my_kmeans10.labels_\n",
    "\n",
    "my_kmeans20 = kmeans(rpm, 10)\n",
    "km_centers20 = my_kmeans20.cluster_centers_\n",
    "km_labels20 = my_kmeans20.labels_\n",
    "\n",
    "my_kmeans30 = kmeans(rpm, 10)\n",
    "km_centers30 = my_kmeans30.cluster_centers_\n",
    "km_labels30 = my_kmeans30.labels_"
   ]
  },
  {
   "cell_type": "code",
   "execution_count": 88,
   "metadata": {
    "collapsed": false,
    "scrolled": false
   },
   "outputs": [],
   "source": [
    "# MeanShift\n",
    "my_ms = ms(rpm)\n",
    "ms_centers = my_ms.cluster_centers_\n",
    "ms_labels = my_ms.labels_"
   ]
  },
  {
   "cell_type": "code",
   "execution_count": 158,
   "metadata": {
    "collapsed": false
   },
   "outputs": [],
   "source": [
    "# http://scikit-learn.org/stable/auto_examples/cluster/plot_dbscan.html#sphx-glr-auto-examples-cluster-plot-dbscan-py\n",
    "# DBSCAN\n",
    "my_db_default = db(rpm, 0.5, 5)\n",
    "components_default = my_db_default.components_\n",
    "n_clusters_default = len(set(my_db_default.labels_)) - (1 if -1 in my_db_default.labels_ else 0)\n",
    "\n",
    "my_db_1 = db(rpm, 0.5, 2)\n",
    "components_1 = my_db_1.components_\n",
    "n_clusters_1 = len(set(my_db_1.labels_)) - (1 if -1 in my_db_1.labels_ else 0)\n",
    "\n",
    "my_db_2 = db(rpm, 150, 4)\n",
    "components_2 = my_db_2.components_\n",
    "n_clusters_2 = len(set(my_db_2.labels_)) - (1 if -1 in my_db_2.labels_ else 0)"
   ]
  },
  {
   "cell_type": "code",
   "execution_count": 159,
   "metadata": {
    "collapsed": false
   },
   "outputs": [
    {
     "name": "stdout",
     "output_type": "stream",
     "text": [
      "0 3 19\n"
     ]
    }
   ],
   "source": [
    "print(n_clusters_default, n_clusters_1, n_clusters_2)"
   ]
  },
  {
   "cell_type": "code",
   "execution_count": null,
   "metadata": {
    "collapsed": true
   },
   "outputs": [],
   "source": []
  }
 ],
 "metadata": {
  "kernelspec": {
   "display_name": "Python 3",
   "language": "python",
   "name": "python3"
  },
  "language_info": {
   "codemirror_mode": {
    "name": "ipython",
    "version": 3
   },
   "file_extension": ".py",
   "mimetype": "text/x-python",
   "name": "python",
   "nbconvert_exporter": "python",
   "pygments_lexer": "ipython3",
   "version": "3.6.0"
  }
 },
 "nbformat": 4,
 "nbformat_minor": 2
}

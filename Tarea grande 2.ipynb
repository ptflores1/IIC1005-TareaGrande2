{
 "cells": [
  {
   "cell_type": "code",
   "execution_count": 8,
   "metadata": {
    "collapsed": true
   },
   "outputs": [],
   "source": [
    "from sklearn.decomposition import PCA\n",
    "import pandas as pd\n",
    "import numpy as np\n",
    "import json"
   ]
  },
  {
   "cell_type": "code",
   "execution_count": 9,
   "metadata": {
    "collapsed": false
   },
   "outputs": [],
   "source": [
    "# Transforming the lines into a matrix 4214 vectors X 4096 features\n",
    "dataset = open(\"byArtworkID/dataset.txt\",\"r\")\n",
    "matrix = []\n",
    "for data_line in dataset.readlines():\n",
    "    data_line = data_line.strip()\n",
    "    data_line = data_line[data_line.find(\"[\"):]\n",
    "    matrix.append(json.loads(data_line))\n",
    "matrix = np.asarray(matrix)"
   ]
  },
  {
   "cell_type": "code",
   "execution_count": 10,
   "metadata": {
    "collapsed": false
   },
   "outputs": [
    {
     "name": "stdout",
     "output_type": "stream",
     "text": [
      "[ 13756.48363408   8367.29344359   6466.9153703    4789.19870759\n",
      "   3779.56851199   3555.72495296   3368.66344263   3019.95634381\n",
      "   2710.89732447   2316.01256053   2013.77948921   1909.07056382\n",
      "   1845.00111546   1702.03088076   1594.35343708   1477.33609198\n",
      "   1330.8414697    1261.01993297   1161.39034555   1054.47785939\n",
      "   1026.87995609    994.88432062    965.59699685    897.61442352\n",
      "    880.85537247    833.43281293    799.77274269    753.34576715\n",
      "    725.36197288    684.84889836    630.15382213    623.24960555\n",
      "    620.28316185    566.21697576    544.21328217    529.7365427\n",
      "    504.90690498    499.11678928    471.15950846    465.78651927\n",
      "    451.15684728    438.53703182    428.2532432     414.03264328\n",
      "    402.93439376    388.97427877    371.91880115    368.7472774\n",
      "    362.54112095    357.15819987]\n",
      "[[ 0.03426765  0.00309956  0.01516192 ...,  0.0067314   0.0277563\n",
      "   0.01038346]\n",
      " [ 0.03108566  0.00018023 -0.00705064 ...,  0.00997703  0.00356967\n",
      "   0.00694461]\n",
      " [ 0.02418955  0.00437373 -0.0169707  ...,  0.00369488 -0.04007069\n",
      "   0.02468331]\n",
      " ..., \n",
      " [-0.02005889  0.01554338  0.04044866 ..., -0.01039102 -0.01199265\n",
      "  -0.00407395]\n",
      " [-0.03501287  0.00182651  0.02925201 ...,  0.00753905 -0.01522228\n",
      "  -0.00569431]\n",
      " [-0.00638259  0.00998508 -0.00692395 ..., -0.00712214 -0.01660701\n",
      "  -0.01079039]]\n"
     ]
    }
   ],
   "source": [
    "pca = PCA(n_components=50)\n",
    "pca.fit(matrix)\n",
    "print(pca.explained_variance_)\n",
    "print(pca.components_)"
   ]
  },
  {
   "cell_type": "code",
   "execution_count": 11,
   "metadata": {
    "collapsed": false,
    "scrolled": true
   },
   "outputs": [
    {
     "name": "stdout",
     "output_type": "stream",
     "text": [
      "(50,)\n",
      "(50, 4096)\n"
     ]
    }
   ],
   "source": [
    "print(pca.explained_variance_.shape)\n",
    "print(pca.components_.shape)"
   ]
  },
  {
   "cell_type": "code",
   "execution_count": 12,
   "metadata": {
    "collapsed": false
   },
   "outputs": [
    {
     "name": "stdout",
     "output_type": "stream",
     "text": [
      "(4214, 1526)\n"
     ]
    }
   ],
   "source": [
    "clf = PCA(0.95)\n",
    "while matrix.shape[1] > 50:\n",
    "    matrix = clf.fit_transform(matrix)\n",
    "print(matrix.shape)    "
   ]
  }
 ],
 "metadata": {
  "kernelspec": {
   "display_name": "Python 3",
   "language": "python",
   "name": "python3"
  },
  "language_info": {
   "codemirror_mode": {
    "name": "ipython",
    "version": 3
   },
   "file_extension": ".py",
   "mimetype": "text/x-python",
   "name": "python",
   "nbconvert_exporter": "python",
   "pygments_lexer": "ipython3",
   "version": "3.6.0"
  }
 },
 "nbformat": 4,
 "nbformat_minor": 2
}

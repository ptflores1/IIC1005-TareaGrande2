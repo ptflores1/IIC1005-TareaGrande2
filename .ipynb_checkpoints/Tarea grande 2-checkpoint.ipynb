{
 "cells": [
  {
   "cell_type": "code",
   "execution_count": 54,
   "metadata": {
    "collapsed": true
   },
   "outputs": [],
   "source": [
    "from sklearn.decomposition import PCA\n",
    "import pandas as pd\n",
    "import numpy as np\n",
    "import json"
   ]
  },
  {
   "cell_type": "code",
   "execution_count": 55,
   "metadata": {
    "collapsed": false
   },
   "outputs": [],
   "source": [
    "# Transforming the lines into a matrix 4214 vectors X 4096 features\n",
    "dataset = open(\"byArtworkID/dataset.txt\",\"r\")\n",
    "matrix = []\n",
    "for data_line in dataset.readlines():\n",
    "    data_line = data_line.strip()\n",
    "    data_line = data_line[data_line.find(\"[\"):]\n",
    "    matrix.append(json.loads(data_line))\n",
    "matrix = np.asarray(matrix)"
   ]
  },
  {
   "cell_type": "code",
   "execution_count": 56,
   "metadata": {
    "collapsed": false
   },
   "outputs": [
    {
     "name": "stdout",
     "output_type": "stream",
     "text": [
      "[  1.37564836e+04   8.36729344e+03   6.46691537e+03 ...,   1.38418919e-03\n",
      "   1.26253519e-03   9.74724731e-04]\n",
      "[[ 0.03426765  0.00309956  0.01516192 ...,  0.0067314   0.0277563\n",
      "   0.01038346]\n",
      " [ 0.03108566  0.00018023 -0.00705064 ...,  0.00997703  0.00356967\n",
      "   0.00694461]\n",
      " [ 0.02418955  0.00437373 -0.0169707  ...,  0.00369488 -0.04007069\n",
      "   0.02468331]\n",
      " ..., \n",
      " [ 0.01853671  0.0229374  -0.01718138 ..., -0.00137366 -0.03786699\n",
      "   0.01207239]\n",
      " [ 0.00404895  0.00749295 -0.00479152 ...,  0.00245062  0.03563363\n",
      "  -0.01941248]\n",
      " [-0.0002201  -0.00715533  0.00145081 ...,  0.00273589 -0.01417063\n",
      "   0.00568933]]\n"
     ]
    }
   ],
   "source": [
    "pca = PCA()\n",
    "pca.fit(matrix)\n",
    "print(pca.explained_variance_)\n",
    "print(pca.components_)"
   ]
  },
  {
   "cell_type": "code",
   "execution_count": 57,
   "metadata": {
    "collapsed": false,
    "scrolled": true
   },
   "outputs": [
    {
     "name": "stdout",
     "output_type": "stream",
     "text": [
      "(4096,)\n",
      "(4096, 4096)\n"
     ]
    }
   ],
   "source": [
    "print(pca.explained_variance_.shape)\n",
    "print(pca.components_.shape)"
   ]
  },
  {
   "cell_type": "code",
   "execution_count": 58,
   "metadata": {
    "collapsed": false
   },
   "outputs": [],
   "source": [
    "matrix = np.asarray(matrix) #borrar esto "
   ]
  },
  {
   "cell_type": "code",
   "execution_count": 59,
   "metadata": {
    "collapsed": false
   },
   "outputs": [
    {
     "name": "stdout",
     "output_type": "stream",
     "text": [
      "(4214, 50)\n"
     ]
    }
   ],
   "source": [
    "clf = PCA(0.95)\n",
    "while matrix.shape[1] > 50:\n",
    "    matrix = clf.fit_transform(matrix)\n",
    "print(matrix.shape)    "
   ]
  },
  {
   "cell_type": "code",
   "execution_count": null,
   "metadata": {
    "collapsed": true
   },
   "outputs": [],
   "source": []
  }
 ],
 "metadata": {
  "kernelspec": {
   "display_name": "Python 3",
   "language": "python",
   "name": "python3"
  },
  "language_info": {
   "codemirror_mode": {
    "name": "ipython",
    "version": 3
   },
   "file_extension": ".py",
   "mimetype": "text/x-python",
   "name": "python",
   "nbconvert_exporter": "python",
   "pygments_lexer": "ipython3",
   "version": "3.6.0"
  }
 },
 "nbformat": 4,
 "nbformat_minor": 2
}

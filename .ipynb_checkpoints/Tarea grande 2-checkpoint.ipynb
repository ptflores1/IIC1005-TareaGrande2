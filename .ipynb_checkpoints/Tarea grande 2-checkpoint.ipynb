{
 "cells": [
  {
   "cell_type": "code",
   "execution_count": 3,
   "metadata": {
    "collapsed": true
   },
   "outputs": [],
   "source": [
    "from sklearn.decomposition import PCA\n",
    "from sklearn.cluster import KMeans\n",
    "from sklearn.cluster import MeanShift\n",
    "from sklearn.cluster import DBSCAN\n",
    "from sklearn.manifold import TSNE\n",
    "\n",
    "%matplotlib inline\n",
    "import matplotlib.pyplot as plt\n",
    "\n",
    "import pandas as pd\n",
    "import numpy as np\n",
    "import json"
   ]
  },
  {
   "cell_type": "code",
   "execution_count": 4,
   "metadata": {
    "collapsed": false
   },
   "outputs": [],
   "source": [
    "# Transforming the lines into a matrix 4214 vectors X 4096 features\n",
    "def read_dataset(route):\n",
    "    dataset = open(route,\"r\")\n",
    "    matrix = []\n",
    "    img_ids = []\n",
    "    for data_line in dataset.readlines():\n",
    "        data_line = data_line.strip()\n",
    "        id_line = data_line\n",
    "        # Obtengo vectores\n",
    "        data_line = data_line[data_line.find(\"[\"):]\n",
    "        matrix.append(json.loads(data_line))\n",
    "        # Obtengo id\n",
    "        img_id = id_line[15:20]\n",
    "        img_ids.append(img_id)\n",
    "        \n",
    "    return (img_ids, np.asarray(matrix))"
   ]
  },
  {
   "cell_type": "code",
   "execution_count": 5,
   "metadata": {
    "collapsed": false,
    "scrolled": true
   },
   "outputs": [],
   "source": [
    "def pca_reduction(dataset, n_components):\n",
    "    pca = PCA(n_components=n_components)\n",
    "    rpm = pca.fit_transform(dataset) #reduced pca matrix\n",
    "    return rpm"
   ]
  },
  {
   "cell_type": "code",
   "execution_count": 6,
   "metadata": {
    "collapsed": true
   },
   "outputs": [],
   "source": [
    "def kmeans(dataset, clusters):\n",
    "    my_kmeans = KMeans(n_clusters=clusters)\n",
    "    my_kmeans.fit(dataset)\n",
    "    return my_kmeans"
   ]
  },
  {
   "cell_type": "code",
   "execution_count": 7,
   "metadata": {
    "collapsed": true
   },
   "outputs": [],
   "source": [
    "def ms(dataset):\n",
    "    my_ms = MeanShift()\n",
    "    my_ms.fit(dataset)\n",
    "    return my_ms"
   ]
  },
  {
   "cell_type": "code",
   "execution_count": 8,
   "metadata": {
    "collapsed": true
   },
   "outputs": [],
   "source": [
    "def db(dataset, eps, min_samples):\n",
    "    my_db = DBSCAN(eps=eps, min_samples=min_samples)\n",
    "    my_db.fit(dataset)\n",
    "    return my_db"
   ]
  },
  {
   "cell_type": "code",
   "execution_count": 9,
   "metadata": {
    "collapsed": true
   },
   "outputs": [],
   "source": [
    "def TS(dataset, n_components, perplexity):\n",
    "    my_ts = TSNE(n_components=n_components, perplexity=perplexity)\n",
    "    reduction = my_ts.fit_transform(dataset)\n",
    "    return reduction"
   ]
  },
  {
   "cell_type": "code",
   "execution_count": 10,
   "metadata": {
    "collapsed": false
   },
   "outputs": [],
   "source": [
    "# PCA\n",
    "dataset = read_dataset(\"byArtworkID/dataset.txt\")[1]\n",
    "rpm = pca_reduction(dataset, 50)"
   ]
  },
  {
   "cell_type": "code",
   "execution_count": 11,
   "metadata": {
    "collapsed": false
   },
   "outputs": [],
   "source": [
    "# KMeans\n",
    "my_kmeans10 = kmeans(rpm, 10)\n",
    "km_centers10 = my_kmeans10.cluster_centers_\n",
    "km_labels10 = my_kmeans10.labels_\n",
    "\n",
    "my_kmeans20 = kmeans(rpm, 10)\n",
    "km_centers20 = my_kmeans20.cluster_centers_\n",
    "km_labels20 = my_kmeans20.labels_\n",
    "\n",
    "my_kmeans30 = kmeans(rpm, 10)\n",
    "km_centers30 = my_kmeans30.cluster_centers_\n",
    "km_labels30 = my_kmeans30.labels_"
   ]
  },
  {
   "cell_type": "code",
   "execution_count": 12,
   "metadata": {
    "collapsed": false,
    "scrolled": false
   },
   "outputs": [],
   "source": [
    "# MeanShift\n",
    "my_ms = ms(rpm)\n",
    "ms_centers = my_ms.cluster_centers_\n",
    "ms_labels = my_ms.labels_"
   ]
  },
  {
   "cell_type": "code",
   "execution_count": 13,
   "metadata": {
    "collapsed": false
   },
   "outputs": [],
   "source": [
    "# http://scikit-learn.org/stable/auto_examples/cluster/plot_dbscan.html#sphx-glr-auto-examples-cluster-plot-dbscan-py\n",
    "# DBSCAN\n",
    "my_db_default = db(rpm, 0.5, 5)\n",
    "components_default = my_db_default.components_\n",
    "n_clusters_default = len(set(my_db_default.labels_)) - (1 if -1 in my_db_default.labels_ else 0)\n",
    "\n",
    "my_db_1 = db(rpm, 0.5, 2)\n",
    "components_1 = my_db_1.components_\n",
    "n_clusters_1 = len(set(my_db_1.labels_)) - (1 if -1 in my_db_1.labels_ else 0)\n",
    "\n",
    "my_db_2 = db(rpm, 150, 4)\n",
    "components_2 = my_db_2.components_\n",
    "n_clusters_2 = len(set(my_db_2.labels_)) - (1 if -1 in my_db_2.labels_ else 0)"
   ]
  },
  {
   "cell_type": "code",
   "execution_count": 14,
   "metadata": {
    "collapsed": true
   },
   "outputs": [],
   "source": [
    "ts_reduced = TS(rpm, 2, 50)"
   ]
  },
  {
   "cell_type": "code",
   "execution_count": 19,
   "metadata": {
    "collapsed": false
   },
   "outputs": [
    {
     "data": {
      "text/plain": [
       "[<matplotlib.lines.Line2D at 0x11346b5f8>]"
      ]
     },
     "execution_count": 19,
     "metadata": {},
     "output_type": "execute_result"
    },
    {
     "data": {
      "image/png": "[encoded data removed]",
      "text/plain": [
       "<matplotlib.figure.Figure at 0x11313deb8>"
      ]
     },
     "metadata": {},
     "output_type": "display_data"
    }
   ],
   "source": [
    "plt.plot(ts_reduced[:, 0], ts_reduced[:, 1], 'o')"
   ]
  },
  {
   "cell_type": "code",
   "execution_count": 20,
   "metadata": {
    "collapsed": true
   },
   "outputs": [],
   "source": [
    "l1 = [1,2,3]\n",
    "l2 = [4,5,6]"
   ]
  },
  {
   "cell_type": "code",
   "execution_count": 26,
   "metadata": {
    "collapsed": false
   },
   "outputs": [
    {
     "ename": "ValueError",
     "evalue": "too many values to unpack (expected 2)",
     "output_type": "error",
     "traceback": [
      "\u001b[0;31m---------------------------------------------------------------------------\u001b[0m",
      "\u001b[0;31mValueError\u001b[0m                                Traceback (most recent call last)",
      "\u001b[0;32m<ipython-input-26-5055495d1263>\u001b[0m in \u001b[0;36m<module>\u001b[0;34m()\u001b[0m\n\u001b[0;32m----> 1\u001b[0;31m \u001b[0ma\u001b[0m\u001b[0;34m,\u001b[0m \u001b[0mb\u001b[0m \u001b[0;34m=\u001b[0m \u001b[0;34m\"hola\"\u001b[0m\u001b[0;34m\u001b[0m\u001b[0m\n\u001b[0m",
      "\u001b[0;31mValueError\u001b[0m: too many values to unpack (expected 2)"
     ]
    }
   ],
   "source": []
  },
  {
   "cell_type": "code",
   "execution_count": 27,
   "metadata": {
    "collapsed": false
   },
   "outputs": [
    {
     "data": {
      "text/plain": [
       "'ol'"
      ]
     },
     "execution_count": 27,
     "metadata": {},
     "output_type": "execute_result"
    }
   ],
   "source": [
    "\"hola\"[1:3]"
   ]
  },
  {
   "cell_type": "code",
   "execution_count": null,
   "metadata": {
    "collapsed": true
   },
   "outputs": [],
   "source": []
  }
 ],
 "metadata": {
  "kernelspec": {
   "display_name": "Python 3",
   "language": "python",
   "name": "python3"
  },
  "language_info": {
   "codemirror_mode": {
    "name": "ipython",
    "version": 3
   },
   "file_extension": ".py",
   "mimetype": "text/x-python",
   "name": "python",
   "nbconvert_exporter": "python",
   "pygments_lexer": "ipython3",
   "version": "3.6.0"
  }
 },
 "nbformat": 4,
 "nbformat_minor": 2
}

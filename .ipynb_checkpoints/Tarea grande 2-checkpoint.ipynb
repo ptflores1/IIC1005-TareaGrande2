{
 "cells": [
  {
   "cell_type": "code",
   "execution_count": 5,
   "metadata": {
    "collapsed": true
   },
   "outputs": [],
   "source": [
    "from sklearn.decomposition import PCA\n",
    "import pandas as pd\n",
    "import numpy as np\n",
    "import json"
   ]
  },
  {
   "cell_type": "code",
   "execution_count": 6,
   "metadata": {
    "collapsed": false
   },
   "outputs": [],
   "source": [
    "# Transforming the lines into a matrix 4214 vectors X 4096 features\n",
    "dataset = open(\"byArtworkID/dataset.txt\",\"r\")\n",
    "matrix = []\n",
    "for data_line in dataset.readlines():\n",
    "    data_line = data_line.strip()\n",
    "    data_line = data_line[data_line.find(\"[\"):]\n",
    "    matrix.append(json.loads(data_line))\n",
    "matrix = np.asarray(matrix)"
   ]
  },
  {
   "cell_type": "code",
   "execution_count": 7,
   "metadata": {
    "collapsed": false
   },
   "outputs": [
    {
     "name": "stdout",
     "output_type": "stream",
     "text": [
      "(4214, 50)\n",
      "[[ 107.86096449 -106.96748849  173.17571538 ...,   -7.74838696\n",
      "   -33.09640708  -22.39030559]\n",
      " [ -20.16786548   56.9777719  -142.40258096 ...,  -24.99565411\n",
      "     7.97111514   11.55931004]\n",
      " [ 230.29590346 -136.36689034  110.9021059  ...,   -4.33547301\n",
      "    -3.64408739  -14.59355769]\n",
      " ..., \n",
      " [  32.55423293  -24.75614383  -77.3263594  ...,  -14.22369627\n",
      "     4.07963354   12.32004987]\n",
      " [   0.78659177    9.16728232 -117.19358766 ...,   -6.23631372\n",
      "   -43.03808043   -3.0176046 ]\n",
      " [  31.59116907   25.50109643  -79.86667456 ...,    9.81872174\n",
      "    22.05750525    4.65318483]]\n"
     ]
    }
   ],
   "source": [
    "# Inicializando PCA con 50 componentes y applicando reduccion de dimension\n",
    "pca = PCA(n_components=50)\n",
    "new_matrix = pca.fit_transform(matrix)\n",
    "print(new_matrix.shape)\n",
    "print(new_matrix)"
   ]
  },
  {
   "cell_type": "code",
   "execution_count": 9,
   "metadata": {
    "collapsed": false,
    "scrolled": true
   },
   "outputs": [],
   "source": [
    "#print(pca.explained_variance_.shape)\n",
    "#print(pca.explained_variance_)\n",
    "\n",
    "#print(pca.components_.shape)\n",
    "#print(pca.components_)"
   ]
  },
  {
   "cell_type": "code",
   "execution_count": null,
   "metadata": {
    "collapsed": true
   },
   "outputs": [],
   "source": [
    "#clf = PCA(0.95)\n",
    "#while matrix.shape[1] > 50:\n",
    "#    matrix = clf.fit_transform(matrix)\n",
    "#print(matrix.shape)    "
   ]
  }
 ],
 "metadata": {
  "kernelspec": {
   "display_name": "Python 3",
   "language": "python",
   "name": "python3"
  },
  "language_info": {
   "codemirror_mode": {
    "name": "ipython",
    "version": 3
   },
   "file_extension": ".py",
   "mimetype": "text/x-python",
   "name": "python",
   "nbconvert_exporter": "python",
   "pygments_lexer": "ipython3",
   "version": "3.6.0"
  }
 },
 "nbformat": 4,
 "nbformat_minor": 2
}
